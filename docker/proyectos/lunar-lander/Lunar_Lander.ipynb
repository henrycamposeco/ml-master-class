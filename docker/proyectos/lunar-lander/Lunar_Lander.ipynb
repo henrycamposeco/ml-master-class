{
  "cells": [
    {
      "cell_type": "markdown",
      "metadata": {
        "id": "hmWbGiyvNNME"
      },
      "source": [
        "# LUNAR LANDER\n",
        "\n",
        "El objetivo del juego es simple (¡pero aterrizar no lo es!): ¡aterrizar la nave espacial sana y salva en la plataforma designada! ¡Prepárate para un aterrizaje suave y heroico! 🚀🌕\n"
      ]
    },
    {
      "cell_type": "markdown",
      "metadata": {
        "id": "OvS3IEo_Pmv8"
      },
      "source": [
        "## Reglas y Punteo\n",
        "En cada momento del juego, ganas o pierdes puntos (recompensa) dependiendo de cómo te vaya:\n",
        "\n",
        "**Aterrizaje y velocidad**: Ganas puntos si te acercas a la zona de aterrizaje y vas despacio. Pierdes puntos si te alejas o vas muy rápido.\n",
        "\n",
        "**Inclinación**: Pierdes puntos si la nave está muy inclinada. ¡Tienes que mantenerla lo más horizontal posible!\n",
        "\n",
        "**Patas en el suelo**: Ganas **10** puntos por cada pata que toca el suelo en la zona de aterrizaje.\n",
        "\n",
        "**Motores**: Pierdes puntos por usar los motores: un poquito por los motores laterales y más por el motor principal. ¡Hay que usarlos con cuidado!\n",
        "\n",
        "**Final del juego**: Si te estrellas, pierdes **100** puntos. Si aterrizas suavemente en la plataforma, ¡ganas **100** puntos extra!\n",
        "\n",
        "Para considerar que has tenido éxito en un intento (episodio), ¡necesitas conseguir al menos **200** puntos en total!"
      ]
    },
    {
      "cell_type": "markdown",
      "metadata": {
        "id": "GiL_39bYC6dT"
      },
      "source": [
        "## Instalacion de librerias"
      ]
    },
    {
      "cell_type": "markdown",
      "metadata": {
        "id": "Fg7rH6DJPneG"
      },
      "source": []
    },
    {
      "cell_type": "code",
      "execution_count": null,
      "metadata": {
        "collapsed": true,
        "id": "isgdPYBPWrSE"
      },
      "outputs": [],
      "source": [
        "# Permite conectar codigo en C, C++ con Python\n",
        "# Requerido por box2d\n",
        "!pip install -q swig\n",
        "\n",
        "# Gymnasium provee entornos de simulacion, controles y califica resultado\n",
        "!pip install -q \"gymnasium[classic-control]\"\n",
        "!pip install -q gymnasium[box2d]\n",
        "\n",
        "# Para grabar y reproducir video\n",
        "# !pip install moviepy\n",
        "!pip install -q pyvirtualdisplay\n",
        "\n",
        "# Agente DQN (Deep Q-learning), al que entrenaremos\n",
        "!pip install -q stable-baselines3\n",
        "# Instalamos TensorBoard para visualizar los logs de entrenamiento\n",
        "!pip install -q tensorboard\n",
        "# Instalando libreria para grabar videos de los entrenamientos\n",
        "!pip install \"gymnasium[other]\""
      ]
    },
    {
      "cell_type": "markdown",
      "metadata": {
        "id": "3l9R8gV2C_ZJ"
      },
      "source": [
        "## Variables globales"
      ]
    },
    {
      "cell_type": "code",
      "execution_count": null,
      "metadata": {
        "id": "502iTO5rCz_P"
      },
      "outputs": [],
      "source": [
        "ENV_NAME = \"LunarLander-v3\" # Nombre del entorno\n",
        "VIDEO_FOLDER = \"./video_prueba_de_vuelo\" # En esta carpeta se guardaran los videos del test de vuelo\n",
        "EPISODES = 1 # Numero de episodios a grabar en la prueba de vuelo, se tratara de seleccionar el mejor\n",
        "LOG_DIR = \"./tmp/dqn_lunar\" # Carpeta donde se guardarán los registros de entrenamiento (logs)"
      ]
    },
    {
      "cell_type": "markdown",
      "metadata": {
        "id": "Ywk9QTWzEOtc"
      },
      "source": [
        "## Entrenando el modelo"
      ]
    },
    {
      "cell_type": "code",
      "execution_count": null,
      "metadata": {
        "colab": {
          "base_uri": "https://localhost:8080/"
        },
        "collapsed": true,
        "id": "OtROtkf7gzka",
        "outputId": "2a034bad-4142-407d-8073-925de62cac5e"
      },
      "outputs": [],
      "source": [
        "# ==============================================================================\n",
        "# ENTRENAMIENTO DE UN AGENTE DQN (Stable-Baselines3)\n",
        "# ==============================================================================\n",
        "\n",
        "\n",
        "# Gymnasium provee el entorno, controles y evalua el resultado\n",
        "import gymnasium as gym\n",
        "from gymnasium.wrappers import RecordVideo\n",
        "import os\n",
        "# import moviepy.editor as mp # Importamos MoviePy\n",
        "\n",
        "\n",
        "# Agente DQN, al que entrenaremos\n",
        "from stable_baselines3 import DQN\n",
        "from stable_baselines3.common.env_util import make_vec_env\n",
        "from stable_baselines3.common.monitor import Monitor\n",
        "\n",
        "\n",
        "# --- Preparación para el entrenamiento ---\n",
        "# La grabación de video solo debe hacerse después del entrenamiento o en un ambiente separado.\n",
        "# Para entrenar, usaremos una versión simple del ambiente sin el wrapper de video.\n",
        "\n",
        "os.makedirs(LOG_DIR, exist_ok=True)\n",
        "\n",
        "# Crear el ambiente para el entrenamiento (usando Monitor para guardar logs)\n",
        "env_train = gym.make(\n",
        "    ENV_NAME,\n",
        "    continuous=False,\n",
        "    gravity=-10,\n",
        "    enable_wind=False,\n",
        "    wind_power=15.0,\n",
        "    turbulence_power=1.5\n",
        ")\n",
        "env_train = Monitor(env_train, LOG_DIR)\n",
        "\n",
        "# Stable-Baselines3 funciona mejor con entornos vectorizados\n",
        "env_train_vec = make_vec_env(lambda: env_train, n_envs=1)\n",
        "\n",
        "\n",
        "# --- Creación del Modelo DQN ---\n",
        "# DQN es un algoritmo de Q-Learning profundo, ideal para ambientes discretos (como LunarLander-v3)\n",
        "model = DQN(\n",
        "    \"MlpPolicy\",         # Tipo de red neuronal (Multi-layer perceptron)\n",
        "    env_train_vec,       # El ambiente de entrenamiento\n",
        "    learning_rate=0.0001,  # Tasa de aprendizaje (0.00001 y 0.001)\n",
        "    buffer_size=10000,   # (10000 - 50000)\n",
        "    learning_starts=5000,# (1000 - 10000)\n",
        "    batch_size=64,       # Puede ser [32, 64, 128]\n",
        "    gamma=0.99,          # Factor de descuento (0.90 - 0.99) menor=quiero recompensas rapido, mayor=espera recompensas mayores siendo mas cuidadoso\n",
        "    verbose=1,           # Mostrar el progreso del entrenamiento\n",
        "    tensorboard_log=LOG_DIR\n",
        ")\n",
        "\n",
        "# --- Bucle de Aprendizaje ---\n",
        "# El método .learn() es el núcleo del entrenamiento de RL.\n",
        "# Entrenaremos por (50,000 - 200,000) pasos (timesteps). Esto tomará unos minutos en Colab.\n",
        "TIMESTEPS = 100_000\n",
        "print(f\"\\n--- INICIANDO ENTRENAMIENTO DQN por {TIMESTEPS} pasos ---\")\n",
        "\n",
        "# Entrenar!!\n",
        "model.learn(\n",
        "    total_timesteps=TIMESTEPS,\n",
        "    log_interval=100\n",
        ")\n",
        "\n",
        "print(\"\\n--- ENTRENAMIENTO FINALIZADO. Modelo entrenado guardado. ---\")\n",
        "model.save(\"modelo_nave_entrenada\") # Guarda el modelo entrenado\n",
        "env_train.close()"
      ]
    },
    {
      "cell_type": "markdown",
      "metadata": {
        "id": "nq6619RPJBFb"
      },
      "source": [
        "## Prueba de Vuelo"
      ]
    },
    {
      "cell_type": "code",
      "execution_count": null,
      "metadata": {
        "colab": {
          "base_uri": "https://localhost:8080/"
        },
        "id": "jL7FmdKqhZaA",
        "outputId": "faeee27a-cb52-472a-cde7-47828f328b1f"
      },
      "outputs": [],
      "source": [
        "# ==============================================================================\n",
        "# 4. PRUEBA DE VUELO Y GRABAR EL VIDEO\n",
        "# ==============================================================================\n",
        "from IPython.display import HTML\n",
        "from base64 import b64encode\n",
        "import glob\n",
        "import io\n",
        "from pyvirtualdisplay import Display\n",
        "\n",
        "# Google collab tiene dependencias core deprecadas\n",
        "import warnings\n",
        "warnings.filterwarnings('ignore')\n",
        "\n",
        "# 1. Configurar la Pantalla Virtual (Necesario para Colab/Jupyter sin GUI)\n",
        "print(\"\\n--- Configurando Pantalla Virtual ---\")\n",
        "try:\n",
        "    display = Display(visible=0, size=(640, 480))\n",
        "    display.start()\n",
        "    print(\"Pantalla virtual iniciada.\")\n",
        "except Exception as e:\n",
        "    print(f\"Advertencia al iniciar pyvirtualdisplay: {e}. Continuaremos.\")\n",
        "\n",
        "# 2. Crear un nuevo ambiente con el wrapper RecordVideo\n",
        "# Creamos la carpeta de video si no existe\n",
        "os.makedirs(VIDEO_FOLDER, exist_ok=True)\n",
        "print(f\"Grabando {EPISODES} episodio(s) en la carpeta: {VIDEO_FOLDER}\")\n",
        "\n",
        "# Creamos el ambiente de test con el wrapper de video\n",
        "env_test = gym.make(\n",
        "    ENV_NAME,\n",
        "    continuous=False,\n",
        "    gravity=-10,\n",
        "    enable_wind=False,\n",
        "    wind_power=15.0,\n",
        "    turbulence_power=0.1,\n",
        "    render_mode=\"rgb_array\"\n",
        ")\n",
        "# El wrapper de RecordVideo debe ser el que envuelve al ambiente base\n",
        "env_test_video = RecordVideo(\n",
        "    env_test,\n",
        "    video_folder=VIDEO_FOLDER,\n",
        "    episode_trigger=lambda x: x == 0, # Graba solo el primer episodio\n",
        "    name_prefix=\"prueba_de_vuelo\"\n",
        ")\n",
        "\n",
        "# 3. Cargar el modelo entrenado y ejecutar un episodio\n",
        "# Cargamos el modelo que acabamos de entrenar y guardar\n",
        "model = DQN.load(\"modelo_nave_entrenada\", env=env_test_video)\n",
        "\n",
        "obs, info = env_test_video.reset()\n",
        "done = False\n",
        "truncated = False\n",
        "while not (done or truncated):\n",
        "    # El modelo determina la acción\n",
        "    action, _ = model.predict(obs, deterministic=True)\n",
        "    # Ejecutamos la acción\n",
        "    obs, reward, done, truncated, info = env_test_video.step(action)\n",
        "\n",
        "env_test_video.close()\n",
        "print(\"\\n--- Grabación del video finalizada. ---\")"
      ]
    },
    {
      "cell_type": "markdown",
      "metadata": {
        "id": "ZYI_XlxDJJU4"
      },
      "source": [
        "## Reproducir Video de la prueba"
      ]
    },
    {
      "cell_type": "code",
      "execution_count": null,
      "metadata": {
        "colab": {
          "base_uri": "https://localhost:8080/",
          "height": 485
        },
        "id": "VAqKRsjN2gb-",
        "outputId": "7b7f43cc-af29-4f29-edcc-34345da691db"
      },
      "outputs": [],
      "source": [
        "# ==============================================================================\n",
        "# 5. CARGAR Y REPRODUCIR EL VIDEO DE LA PRUEBA DE VUELO\n",
        "# ==============================================================================\n",
        "import os\n",
        "import glob\n",
        "import io\n",
        "from IPython.display import HTML, display\n",
        "from base64 import b64encode\n",
        "\n",
        "# 1. Función para codificar y mostrar un video usando Base64\n",
        "def display_encoded_video(video_path):\n",
        "    \"\"\"Codifica un video a Base64 y lo muestra en un Jupyter/Colab notebook.\"\"\"\n",
        "    print(f\"Mostrando: {video_path}\")\n",
        "\n",
        "    try:\n",
        "        # Abrir y codificar el archivo\n",
        "        with io.open(video_path, 'rb') as f:\n",
        "            video_bytes = f.read()\n",
        "        video_encoded = b64encode(video_bytes).decode()\n",
        "\n",
        "        # Crear y mostrar el tag de video HTML\n",
        "        html_tag = f\"\"\"\n",
        "        <video width=\"600\" controls autoplay>\n",
        "            <source src=\"data:video/mp4;base64,{video_encoded}\" type=\"video/mp4\">\n",
        "            Tu navegador no soporta el tag de video.\n",
        "        </video>\n",
        "        <p>--------------------------------------------------</p>\n",
        "        \"\"\"\n",
        "        display(HTML(html_tag))\n",
        "\n",
        "    except Exception as e:\n",
        "        print(f\"❌ ERROR al procesar o mostrar el video {video_path}: {e}\")\n",
        "        print(\"Esto podría ser por un archivo muy grande.\")\n",
        "\n",
        "\n",
        "# 2. Buscar todos los archivos .mp4 en la carpeta\n",
        "# Ordenamos por fecha de creación para verlos en orden de grabación\n",
        "list_of_files = sorted(\n",
        "    glob.glob(os.path.join(VIDEO_FOLDER, \"*.mp4\")),\n",
        "    key=os.path.getctime\n",
        ")\n",
        "\n",
        "# 3. Iterar y mostrar cada video\n",
        "if list_of_files:\n",
        "    print(f\"✅ Se encontraron {len(list_of_files)} videos para reproducir.\")\n",
        "    for video_file in list_of_files:\n",
        "        display_encoded_video(video_file)\n",
        "else:\n",
        "    print(f\"❌ No se encontró ningún archivo de video MP4 en {VIDEO_FOLDER}.\")"
      ]
    },
    {
      "cell_type": "markdown",
      "metadata": {
        "id": "za-H_n-3JRBd"
      },
      "source": [
        "## Puntaje de la prueba"
      ]
    },
    {
      "cell_type": "code",
      "execution_count": null,
      "metadata": {
        "colab": {
          "base_uri": "https://localhost:8080/",
          "height": 211
        },
        "id": "uabPapxG2_nO",
        "outputId": "bc9ac42e-9bf3-4653-c4e9-bb6c063c6d2a"
      },
      "outputs": [],
      "source": [
        "# ----------------------------------------------------------------------\n",
        "# CALIFICACION DEL ENTRENAMIENTO\n",
        "# ----------------------------------------------------------------------\n",
        "\n",
        "# Asume que estas variables ya han sido actualizadas por env_test_video.step()\n",
        "# reward, done, truncated, info\n",
        "\n",
        "\n",
        "# Imprimir cada variable en una línea separada\n",
        "print(f\"Reward (Recompensa): {reward:.2f}\")\n",
        "print(f\"Done (Logro Completar?): {done}\")\n",
        "print(f\"Truncated (Tuvo que interrumpirse?): {truncated}\")\n",
        "print(f\"Info (Información): {info}\")"
      ]
    }
  ],
  "metadata": {
    "colab": {
      "provenance": [],
      "toc_visible": true
    },
    "kernelspec": {
      "display_name": "Python 3",
      "name": "python3"
    },
    "language_info": {
      "codemirror_mode": {
        "name": "ipython",
        "version": 3
      },
      "file_extension": ".py",
      "mimetype": "text/x-python",
      "name": "python",
      "nbconvert_exporter": "python",
      "pygments_lexer": "ipython3",
      "version": "3.10.12"
    }
  },
  "nbformat": 4,
  "nbformat_minor": 0
}
