{
  "metadata": {
    "kernelspec": {
      "name": "python",
      "display_name": "Python (Pyodide)",
      "language": "python"
    },
    "language_info": {
      "codemirror_mode": {
        "name": "python",
        "version": 3
      },
      "file_extension": ".py",
      "mimetype": "text/x-python",
      "name": "python",
      "nbconvert_exporter": "python",
      "pygments_lexer": "ipython3",
      "version": "3.8"
    }
  },
  "nbformat_minor": 5,
  "nbformat": 4,
  "cells": [
    {
      "id": "3aef3ddd",
      "cell_type": "markdown",
      "source": "\n# Predicción de nivel de estrés a partir de horas de sueño (Regresión lineal)\n\nEste notebook **didáctico** muestra, paso a paso y con explicaciones sencillas, cómo:\n1. **Cargar un conjunto de datos** (horas de sueño y nivel de estrés).\n2. **Explorar** rápidamente la información.\n3. **Entrenar** un modelo de **regresión lineal**.\n4. **Evaluar** su desempeño con métricas simples.\n5. **Visualizar** la recta de regresión sobre los datos.\n6. **Usar el modelo** para hacer predicciones.\n7. **Guardar** el modelo entrenado para reutilizarlo.\n\n> **Sobre los datos**: Este notebook incluye un archivo pequeño `sueño_estress_dataset.csv` (≤100 filas) para demo.\n> Para tu proyecto, **te recomiendo usar datos reales**. Un conjunto muy usado es el **Sleep Health and Lifestyle Dataset** (encuesta con columnas *Sleep Duration* y *Stress Level*).\n> Puedes descargarlo y reemplazar el archivo de ejemplo por el real. Más abajo verás cómo hacerlo.\n",
      "metadata": {
        "jp-MarkdownHeadingCollapsed": true
      }
    },
    {
      "id": "659f803f-a1f0-43ac-be37-1dd9acafcdd8",
      "cell_type": "markdown",
      "source": "## Imports y librerias",
      "metadata": {}
    },
    {
      "id": "a55e92dd",
      "cell_type": "code",
      "source": "\n# =======================\n# IMPORTAR LIBRERÍAS\n# =======================\n# pandas: para cargar y manipular datos tabulares (CSV, DataFrames)\nimport pandas as pandas_library\n# numpy: utilidades numéricas (arreglos, operaciones matemáticas)\nimport numpy as numpy_library\n# matplotlib.pyplot: graficación básica (dispersión, líneas, títulos, etc.)\nimport matplotlib.pyplot as pyplot_library\n# scikit-learn: librería de ML con modelos, métricas y utilidades\nfrom sklearn.model_selection import train_test_split  # separar datos en entrenamiento/prueba\nfrom sklearn.linear_model import LinearRegression      # modelo de regresión lineal\n# joblib: guardar/cargar modelos entrenados a disco\nimport joblib as joblib_library\n",
      "metadata": {
        "trusted": true
      },
      "outputs": [],
      "execution_count": null
    },
    {
      "id": "2c6bf9fb-3f25-4688-ba6d-25808b58b0d0",
      "cell_type": "markdown",
      "source": "## Preparar los datos",
      "metadata": {
        "jp-MarkdownHeadingCollapsed": true
      }
    },
    {
      "id": "c158c65b",
      "cell_type": "code",
      "source": "\n# =======================\n# CARGAR LOS DATOS\n# =======================\n# Este CSV de demo tiene dos columnas:\n#  - 'sleep_hours': horas de sueño por noche\n#  - 'stress_level_1_to_10': nivel de estrés reportado (1= bajo, 10= alto)\n# Si ya descargaste un dataset REAL (por ejemplo el de Kaggle), cambia 'csv_path' a su ruta local.\ncsv_path = r\"sueño_estress_dataset.csv\"  # <-- Cambia esta ruta si usarás tus propios datos\ndataset_table = pandas_library.read_csv(csv_path)\n\n# Mostramos las primeras filas para confirmar estructura y contenido\ndataset_table.head()\n",
      "metadata": {
        "trusted": true
      },
      "outputs": [],
      "execution_count": null
    },
    {
      "id": "fe8c056e",
      "cell_type": "code",
      "source": "\n# =======================\n# INSPECCIÓN RÁPIDA\n# =======================\n# Información general: columnas, tipos de datos, filas no nulas\n# dataset_table_info = dataset_table.info()\ndataset_table.describe()\n\n",
      "metadata": {
        "trusted": true
      },
      "outputs": [],
      "execution_count": null
    },
    {
      "id": "b08dd31e",
      "cell_type": "code",
      "source": "\n# =======================\n# LIMPIEZA BÁSICA (si fuera necesaria)\n# =======================\n# Para mantener el ejemplo simple:\n# - Si existieran valores faltantes en cualquiera de las columnas clave, los eliminamos.\ncolumns_required = [\"sleep_hours\", \"stress_level_1_to_10\"]\ndataset_table_clean = dataset_table.dropna(subset=columns_required).copy()\n\n# Confirmamos el tamaño después de limpiar\ndataset_table_clean.shape\n",
      "metadata": {
        "trusted": true
      },
      "outputs": [],
      "execution_count": null
    },
    {
      "id": "cd689db5-036d-415b-9fab-ede421188a9a",
      "cell_type": "markdown",
      "source": "## Entrenando el Modelo",
      "metadata": {
        "jp-MarkdownHeadingCollapsed": true
      }
    },
    {
      "id": "1a63abbc",
      "cell_type": "code",
      "source": "\n# =======================\n# ENTRENAR EL MODELO DE REGRESIÓN LINEAL\n# =======================\nfeature_series = dataset_table_clean[[\"sleep_hours\"]]         # Features\nlabel_series = dataset_table_clean[\"stress_level_1_to_10\"]   # Labels\n\nlinear_regression_model = LinearRegression()\n\n# Aca es donde entrenamos el modelo realmente\nlinear_regression_model.fit(feature_series, label_series)\n\n# Coeficientes aprendidos por el modelo\nlearned_intercept = float(linear_regression_model.intercept_)\nlearned_slope = float(linear_regression_model.coef_[0])\n\nprint(f\"Intercept (b0): {learned_intercept}\")\nprint(f\"Slope (b1): {learned_slope}\")\n",
      "metadata": {
        "trusted": true
      },
      "outputs": [],
      "execution_count": null
    },
    {
      "id": "8c70a401-a993-450d-ae4b-fa87de9d18e9",
      "cell_type": "markdown",
      "source": "## Gráfica de dispersión y regresión lineal",
      "metadata": {
        "jp-MarkdownHeadingCollapsed": true
      }
    },
    {
      "id": "0c92434e",
      "cell_type": "code",
      "source": "\n# =======================\n# VISUALIZAR LA RECTA DE REGRESIÓN\n# =======================\n## Inicializa el Gráfico\npyplot_library.figure()\n## Titulos y descripciones\npyplot_library.title(\"Relación horas de sueño vs. nivel de estrés (Regresión lineal)\")\npyplot_library.xlabel(\"Horas de sueño por noche\")\npyplot_library.ylabel(\"Nivel de estrés (1=bajo, 10=alto)\")\n\n## crea los puntos de dispersion de los datos de entrenamiento\npyplot_library.scatter(dataset_table_clean[\"sleep_hours\"], dataset_table_clean[\"stress_level_1_to_10\"], label=\"Datos observados\")\n\n## ordenamos los datos de las features y dibujamos la Recta de regresión\nordered_sleep = dataset_table_clean[\"sleep_hours\"].sort_values()\npredicted_line = linear_regression_model.predict(ordered_sleep.to_frame())\npyplot_library.plot(ordered_sleep, predicted_line, label=\"Recta de regresión\")\n\n## Renderiza el gráfico\npyplot_library.legend()\npyplot_library.show()\n",
      "metadata": {
        "trusted": true
      },
      "outputs": [],
      "execution_count": null
    },
    {
      "id": "250b813b",
      "cell_type": "code",
      "source": "\n# =======================\n# INTERPRETACIÓN SIMPLE DEL MODELO\n# =======================\nprint(f\"Intercepto (b0): {learned_intercept:.3f}\")\nprint(f\"Pendiente (b1):  {learned_slope:.3f}\")\nif learned_slope < 0:\n    print(\"Interpretación: A más horas de sueño, el modelo espera MENOR nivel de estrés (pendiente negativa).\")\nelif learned_slope > 0:\n    print(\"Interpretación: A más horas de sueño, el modelo espera MAYOR nivel de estrés (pendiente positiva).\")\nelse:\n    print(\"Interpretación: El modelo no encontró relación lineal entre horas de sueño y estrés (pendiente ~ 0).\")\n",
      "metadata": {
        "trusted": true
      },
      "outputs": [],
      "execution_count": null
    },
    {
      "id": "359ec5ad-0e56-4a32-b674-3e73817d1efd",
      "cell_type": "markdown",
      "source": "## Predecir nuevos valores (features)",
      "metadata": {}
    },
    {
      "id": "bb254c64",
      "cell_type": "code",
      "source": "\n# =======================\n# HACER PREDICCIONES CON EL MODELO\n# =======================\n# Datos a predecir, puede ser uno o varios\nnew_feature_data = [10]\n\n#convierte los datos a Dataframe\nnew_sleep_hours = pandas_library.DataFrame({\"sleep_hours\": new_feature_data})\n#Hace la prediccion usando el modelo entrenado\npredicted_stress_levels = linear_regression_model.predict(new_sleep_hours)\n\n#para cada feature imprimir su valor de prediccion\nfor hours, pred in zip(new_sleep_hours[\"sleep_hours\"], predicted_stress_levels):\n    print(f\"Horas de sueño: {hours:.1f} -> Estrés estimado: {pred:.2f} (1=bajo, 10=alto)\")\n",
      "metadata": {
        "trusted": true
      },
      "outputs": [],
      "execution_count": null
    },
    {
      "id": "7d107666-e60f-48e6-aca0-03d7f84a622f",
      "cell_type": "markdown",
      "source": "## Info adicional y referencias",
      "metadata": {}
    },
    {
      "id": "052e3a06-0a83-4df5-a893-afe463210e2e",
      "cell_type": "markdown",
      "source": "### ¿Cómo usar un **dataset real** en lugar del de demo?\n\n1. Descarga un dataset con **horas de sueño** y **nivel de estrés**. Por ejemplo:\n   - **Sleep Health and Lifestyle Dataset** (encuesta con columnas *Sleep Duration* y *Stress Level*). Consulta la licencia antes de un uso comercial.\n2. Guarda el archivo CSV en tu equipo, por ejemplo: `data/Sleep_health_and_lifestyle_dataset.csv`.\n3. Cambia la variable `csv_path` en la celda **CARGAR LOS DATOS** para apuntar a tu archivo real y vuelve a ejecutar el notebook.\n4. Si tus columnas se llaman distinto, ajusta:\n   - `columns_required`\n   - `feature_series` (característica)\n   - `label_series` (objetivo)\n",
      "metadata": {}
    },
    {
      "id": "4e8ed167",
      "cell_type": "markdown",
      "source": "\n### Referencias breves\n\n- Sleep Health and Lifestyle Dataset (encuesta con *Sleep Duration* y *Stress Level*) disponible en portales públicos de datos.  \n- Revisión general: existe evidencia de **relación negativa** entre horas de sueño y estrés en poblaciones adultas, observada en estudios de diarios y encuestas.\n",
      "metadata": {}
    }
  ]
}